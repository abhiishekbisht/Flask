{
  "cells": [
    {
      "cell_type": "code",
      "metadata": {
        "colab": {
          "base_uri": "https://localhost:8080/"
        },
        "id": "f28e5410",
        "outputId": "a9b16096-6535-4527-a974-b177f37bcca6"
      },
      "source": [
        "# 1. How do you create a basic Flask application?\n",
        "from flask import Flask\n",
        "\n",
        "app = Flask(__name__)\n",
        "\n",
        "@app.route('/')\n",
        "def hello_world():\n",
        "    return 'Hello, World!'\n",
        "\n",
        "if __name__ == '__main__':\n",
        "    # Use a different port if 5000 is in use\n",
        "    app.run(port=5001)"
      ],
      "execution_count": 18,
      "outputs": [
        {
          "output_type": "stream",
          "name": "stdout",
          "text": [
            " * Serving Flask app '__main__'\n",
            " * Debug mode: off\n"
          ]
        },
        {
          "output_type": "stream",
          "name": "stderr",
          "text": [
            "INFO:werkzeug:\u001b[31m\u001b[1mWARNING: This is a development server. Do not use it in a production deployment. Use a production WSGI server instead.\u001b[0m\n",
            " * Running on http://127.0.0.1:5001\n",
            "INFO:werkzeug:\u001b[33mPress CTRL+C to quit\u001b[0m\n"
          ]
        }
      ]
    },
    {
      "cell_type": "code",
      "metadata": {
        "id": "e49fdbda"
      },
      "source": [
        "# How do you serve static files like images or CSS in Flask\n",
        "# Static files are served from a folder named 'static' by default.\n",
        "# For example, if you have a file named 'style.css' in a 'static' folder\n",
        "# in the same directory as your Flask app, you can link to it in your HTML like this:\n",
        "# <link rel=\"stylesheet\" href=\"{{ url_for('static', filename='style.css') }}\">\n",
        "# And for an image named 'logo.png' in the 'static' folder:\n",
        "# <img src=\"{{ url_for('static', filename='logo.png') }}\" alt=\"Logo\">\n",
        "\n",
        "# You don't need explicit code in the app.py to serve static files,\n",
        "# Flask handles this automatically when you use url_for('static', filename='...')"
      ],
      "execution_count": null,
      "outputs": []
    },
    {
      "cell_type": "code",
      "metadata": {
        "id": "7fc1e45e"
      },
      "source": [
        "# How do you define different routes with different HTTP methods in Flask\n",
        "from flask import Flask, request\n",
        "\n",
        "app = Flask(__name__)\n",
        "\n",
        "@app.route('/submit', methods=['GET', 'POST'])\n",
        "def submit_form():\n",
        "    if request.method == 'POST':\n",
        "        return 'This was a POST request'\n",
        "    else:\n",
        "        return 'This was a GET request'\n",
        "\n",
        "# Example route that only accepts GET requests (default)\n",
        "@app.route('/data')\n",
        "def get_data():\n",
        "    return 'This route only accepts GET requests'\n",
        "\n",
        "if __name__ == '__main__':\n",
        "    # Use a different port if 5000 is in use\n",
        "    app.run(port=5002)"
      ],
      "execution_count": null,
      "outputs": []
    },
    {
      "cell_type": "code",
      "metadata": {
        "id": "16330d7b"
      },
      "source": [
        "# How do you render HTML templates in Flask\n",
        "from flask import Flask, render_template\n",
        "\n",
        "app = Flask(__name__)\n",
        "\n",
        "# Make sure you have a 'templates' folder in the same directory as your app.py\n",
        "# and place your HTML files (e.g., index.html) inside it.\n",
        "\n",
        "@app.route('/')\n",
        "def index():\n",
        "    # Flask will look for 'index.html' in the 'templates' folder\n",
        "    return render_template('index.html', title='My Flask App', message='Hello from Flask!')\n",
        "\n",
        "if __name__ == '__main__':\n",
        "    # Use a different port if 5000 is in use\n",
        "    app.run(port=5003)"
      ],
      "execution_count": null,
      "outputs": []
    },
    {
      "cell_type": "code",
      "metadata": {
        "id": "599a1450"
      },
      "source": [
        "# How can you generate URLs for routes in Flask using url_for\n",
        "from flask import Flask, url_for\n",
        "\n",
        "app = Flask(__name__)\n",
        "\n",
        "@app.route('/')\n",
        "def index():\n",
        "    return 'Go to the profile page'\n",
        "\n",
        "@app.route('/profile/<username>')\n",
        "def profile(username):\n",
        "    return f'Hello, {username}'\n",
        "\n",
        "with app.test_request_context():\n",
        "    # Generate URL for the 'index' route\n",
        "    print(url_for('index'))\n",
        "\n",
        "    # Generate URL for the 'profile' route with a dynamic part\n",
        "    print(url_for('profile', username='JohnDoe'))\n",
        "\n",
        "    # Generate URL with query parameters\n",
        "    print(url_for('index', next='/'))"
      ],
      "execution_count": null,
      "outputs": []
    },
    {
      "cell_type": "code",
      "metadata": {
        "id": "b41fde65"
      },
      "source": [
        "# How do you handle forms in Flask\n",
        "from flask import Flask, request, render_template_string\n",
        "\n",
        "app = Flask(__name__)\n",
        "\n",
        "HTML_FORM = \"\"\"\n",
        "<form method=\"POST\">\n",
        "    <label for=\"name\">Name:</label><br>\n",
        "    <input type=\"text\" id=\"name\" name=\"name\"><br><br>\n",
        "    <input type=\"submit\" value=\"Submit\">\n",
        "</form>\n",
        "\"\"\"\n",
        "\n",
        "@app.route('/form', methods=['GET', 'POST'])\n",
        "def handle_form():\n",
        "    if request.method == 'POST':\n",
        "        name = request.form.get('name')\n",
        "        return f'Hello, {name}!'\n",
        "    return render_template_string(HTML_FORM)\n",
        "\n",
        "if __name__ == '__main__':\n",
        "    # Use a different port if 5000 is in use\n",
        "    app.run(port=5004)"
      ],
      "execution_count": null,
      "outputs": []
    },
    {
      "cell_type": "code",
      "metadata": {
        "id": "ba9c24ad"
      },
      "source": [
        "# How can you validate form data in Flask\n",
        "from flask import Flask, request, render_template_string\n",
        "\n",
        "app = Flask(__name__)\n",
        "\n",
        "HTML_FORM_VALIDATION = \"\"\"\n",
        "<form method=\"POST\">\n",
        "    <label for=\"email\">Email:</label><br>\n",
        "    <input type=\"email\" id=\"email\" name=\"email\" required><br><br>\n",
        "    <input type=\"submit\" value=\"Submit\">\n",
        "</form>\n",
        "\"\"\"\n",
        "\n",
        "@app.route('/validate', methods=['GET', 'POST'])\n",
        "def validate_form():\n",
        "    if request.method == 'POST':\n",
        "        email = request.form.get('email')\n",
        "        if not email:\n",
        "            return 'Email is required!', 400 # Bad Request\n",
        "        # Add more validation logic here (e.g., format checking)\n",
        "        return f'Email received: {email}'\n",
        "    return render_template_string(HTML_FORM_VALIDATION)\n",
        "\n",
        "if __name__ == '__main__':\n",
        "    # Use a different port if 5000 is in use\n",
        "    app.run(port=5005)"
      ],
      "execution_count": null,
      "outputs": []
    },
    {
      "cell_type": "code",
      "metadata": {
        "id": "4a4ad869"
      },
      "source": [
        "# How do you manage sessions in Flask\n",
        "from flask import Flask, session, redirect, url_for, request\n",
        "\n",
        "app = Flask(__name__)\n",
        "app.config['SECRET_KEY'] = 'a_very_secret_key' # Set a secret key for session security\n",
        "\n",
        "@app.route('/')\n",
        "def index():\n",
        "    if 'username' in session:\n",
        "        return f'Logged in as {session[\"username\"]} <br> <a href=\"/logout\">Logout</a>'\n",
        "    return 'You are not logged in <br> <a href=\"/login\">Login</a>'\n",
        "\n",
        "@app.route('/login', methods=['GET', 'POST'])\n",
        "def login():\n",
        "    if request.method == 'POST':\n",
        "        session['username'] = request.form['username']\n",
        "        return redirect(url_for('index'))\n",
        "    return '''\n",
        "        <form method=\"post\">\n",
        "            <p><input type=text name=username>\n",
        "            <p><input type=submit value=Login>\n",
        "        </form>\n",
        "    '''\n",
        "\n",
        "@app.route('/logout')\n",
        "def logout():\n",
        "    # remove the username from the session if it's there\n",
        "    session.pop('username', None)\n",
        "    return redirect(url_for('index'))\n",
        "\n",
        "if __name__ == '__main__':\n",
        "    # Use a different port if 5000 is in use\n",
        "    app.run(port=5006)"
      ],
      "execution_count": null,
      "outputs": []
    },
    {
      "cell_type": "code",
      "metadata": {
        "id": "6a4055a9"
      },
      "source": [
        "# How do you redirect to a different route in Flask\n",
        "from flask import Flask, redirect, url_for\n",
        "\n",
        "app = Flask(__name__)\n",
        "\n",
        "@app.route('/')\n",
        "def index():\n",
        "    return 'This is the index page. Redirecting...'\n",
        "\n",
        "@app.route('/new_page')\n",
        "def new_page():\n",
        "    return 'Welcome to the new page!'\n",
        "\n",
        "@app.route('/old_page')\n",
        "def old_page():\n",
        "    # Redirect to the 'new_page' route\n",
        "    return redirect(url_for('new_page'))\n",
        "\n",
        "if __name__ == '__main__':\n",
        "    # Use a different port if 5000 is in use\n",
        "    app.run(port=5007)"
      ],
      "execution_count": null,
      "outputs": []
    },
    {
      "cell_type": "code",
      "metadata": {
        "id": "dffcfb5d"
      },
      "source": [
        "# How do you handle errors in Flask (e.g., 404)\n",
        "from flask import Flask, render_template\n",
        "\n",
        "app = Flask(__name__)\n",
        "\n",
        "@app.route('/')\n",
        "def index():\n",
        "    return 'Hello, World!'\n",
        "\n",
        "@app.errorhandler(404)\n",
        "def page_not_found(error):\n",
        "    # You can render a custom template for the 404 error page\n",
        "    return render_template('404.html'), 404 # Make sure you have a 404.html in your templates folder\n",
        "\n",
        "@app.errorhandler(500)\n",
        "def internal_server_error(error):\n",
        "    # You can handle other errors similarly\n",
        "    return render_template('500.html'), 500 # Make sure you have a 500.html in your templates folder\n",
        "\n",
        "if __name__ == '__main__':\n",
        "    # Use a different port if 5000 is in use\n",
        "    app.run(port=5008)"
      ],
      "execution_count": null,
      "outputs": []
    },
    {
      "cell_type": "code",
      "metadata": {
        "id": "781e942e"
      },
      "source": [
        "# How do you structure a Flask app using Blueprints\n",
        "# In a larger application, you can organize your routes and other code\n",
        "# into Blueprints. This helps in modularizing your app.\n",
        "\n",
        "# Example structure:\n",
        "# your_app/\n",
        "#   __init__.py\n",
        "#   auth/\n",
        "#     __init__.py\n",
        "#     routes.py\n",
        "#   blog/\n",
        "#     __init__.py\n",
        "#     routes.py\n",
        "#   templates/\n",
        "#   static/\n",
        "\n",
        "# In your_app/__init__.py:\n",
        "# from flask import Flask\n",
        "#\n",
        "# def create_app():\n",
        "#     app = Flask(__name__)\n",
        "#     # Configure your app\n",
        "#\n",
        "#     from .auth import auth_bp\n",
        "#     from .blog import blog_bp\n",
        "#\n",
        "#     app.register_blueprint(auth_bp, url_prefix='/auth')\n",
        "#     app.register_blueprint(blog_bp, url_prefix='/blog')\n",
        "#\n",
        "#     return app\n",
        "\n",
        "# In auth/routes.py:\n",
        "# from flask import Blueprint\n",
        "#\n",
        "# auth_bp = Blueprint('auth', __name__)\n",
        "#\n",
        "# @auth_bp.route('/login')\n",
        "# def login():\n",
        "#     return 'Auth Login Page'\n",
        "\n",
        "# In blog/routes.py:\n",
        "# from flask import Blueprint\n",
        "#\n",
        "# blog_bp = Blueprint('blog', __name__)\n",
        "#\n",
        "# @blog_bp.route('/posts')\n",
        "# def posts():\n",
        "#     return 'Blog Posts Page'\n",
        "\n",
        "# You would then run the app from run.py or similar:\n",
        "# from your_app import create_app\n",
        "# app = create_app()\n",
        "# if __name__ == '__main__':\n",
        "#     app.run()"
      ],
      "execution_count": null,
      "outputs": []
    },
    {
      "cell_type": "code",
      "metadata": {
        "id": "4b82cb80"
      },
      "source": [
        "# How do you define a custom Jinja filter in Flask\n",
        "from flask import Flask, render_template_string\n",
        "\n",
        "app = Flask(__name__)\n",
        "\n",
        "# Define a custom filter function\n",
        "def reverse_string(s):\n",
        "    return s[::-1]\n",
        "\n",
        "# Register the custom filter\n",
        "app.jinja_env.filters['reverse'] = reverse_string\n",
        "\n",
        "HTML_TEMPLATE_FILTER = \"\"\"\n",
        "<p>{{ my_string | reverse }}</p>\n",
        "\"\"\"\n",
        "\n",
        "@app.route('/filter')\n",
        "def use_filter():\n",
        "    return render_template_string(HTML_TEMPLATE_FILTER, my_string=\"Hello, Flask!\")\n",
        "\n",
        "if __name__ == '__main__':\n",
        "    # Use a different port if 5000 is in use\n",
        "    app.run(port=5009)"
      ],
      "execution_count": null,
      "outputs": []
    }
  ],
  "metadata": {
    "colab": {
      "provenance": []
    },
    "kernelspec": {
      "display_name": "Python 3",
      "name": "python3"
    }
  },
  "nbformat": 4,
  "nbformat_minor": 0
}